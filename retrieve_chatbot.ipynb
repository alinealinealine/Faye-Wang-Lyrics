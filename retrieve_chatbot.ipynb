{
 "cells": [
  {
   "cell_type": "code",
   "execution_count": 41,
   "metadata": {},
   "outputs": [],
   "source": [
    "import pandas as pd\n",
    "from langchain.llms import OpenAI\n",
    "# from langchain.document_loaders.csv_loader import CSVLoader\n",
    "from langchain.document_loaders import DataFrameLoader\n",
    "from langchain.embeddings.openai import OpenAIEmbeddings\n",
    "from langchain.text_splitter import CharacterTextSplitter\n",
    "from langchain.vectorstores import Chroma"
   ]
  },
  {
   "cell_type": "code",
   "execution_count": 32,
   "metadata": {},
   "outputs": [
    {
     "data": {
      "text/html": [
       "<div>\n",
       "<style scoped>\n",
       "    .dataframe tbody tr th:only-of-type {\n",
       "        vertical-align: middle;\n",
       "    }\n",
       "\n",
       "    .dataframe tbody tr th {\n",
       "        vertical-align: top;\n",
       "    }\n",
       "\n",
       "    .dataframe thead th {\n",
       "        text-align: right;\n",
       "    }\n",
       "</style>\n",
       "<table border=\"1\" class=\"dataframe\">\n",
       "  <thead>\n",
       "    <tr style=\"text-align: right;\">\n",
       "      <th></th>\n",
       "      <th>URL</th>\n",
       "      <th>Lyrics</th>\n",
       "      <th>Title</th>\n",
       "      <th>Album Title</th>\n",
       "    </tr>\n",
       "  </thead>\n",
       "  <tbody>\n",
       "    <tr>\n",
       "      <th>0</th>\n",
       "      <td>https://mojim.com/cny100019x82x1.htm</td>\n",
       "      <td>\\n王菲\\n\\n\\n\\n\\n\\n\\n归途有风\\n\\n\\n电影 万里归途 主题曲\\n作词：唐恬...</td>\n",
       "      <td>归途有风</td>\n",
       "      <td>归途有风</td>\n",
       "    </tr>\n",
       "    <tr>\n",
       "      <th>1</th>\n",
       "      <td>https://mojim.com/cny100019x81x1.htm</td>\n",
       "      <td>\\n王菲\\n\\n\\n\\n\\n\\n\\n如愿\\n\\n\\n作词：唐恬\\n作曲：钱雷\\n你是 遥遥的...</td>\n",
       "      <td>如愿</td>\n",
       "      <td>如愿</td>\n",
       "    </tr>\n",
       "    <tr>\n",
       "      <th>2</th>\n",
       "      <td>https://mojim.com/cny100019x79x1.htm</td>\n",
       "      <td>\\n王菲\\n\\n\\n\\n\\n\\n\\n偶遇\\n\\n\\n电影 邪不压正 宣传曲\\n作词：林珺帆\\...</td>\n",
       "      <td>偶遇</td>\n",
       "      <td>电影 邪不压正</td>\n",
       "    </tr>\n",
       "    <tr>\n",
       "      <th>3</th>\n",
       "      <td>https://mojim.com/cny100019x77x1.htm</td>\n",
       "      <td>\\n王菲\\n\\n\\n\\n\\n\\n\\n无问西东\\n\\n\\n作词：彭青\\n作曲：彭青\\n编曲：彭...</td>\n",
       "      <td>无问西东</td>\n",
       "      <td>电影《无问西东》推广曲</td>\n",
       "    </tr>\n",
       "    <tr>\n",
       "      <th>4</th>\n",
       "      <td>https://mojim.com/cny100019x75x1.htm</td>\n",
       "      <td>\\n王菲\\n\\n\\n\\n\\n\\n\\n你在终点等我\\n\\n\\n作词：姚若龙\\n作曲：陈小霞\\n...</td>\n",
       "      <td>你在终点等我</td>\n",
       "      <td>电影《从你的全世界路过》片尾曲</td>\n",
       "    </tr>\n",
       "  </tbody>\n",
       "</table>\n",
       "</div>"
      ],
      "text/plain": [
       "                                    URL  \\\n",
       "0  https://mojim.com/cny100019x82x1.htm   \n",
       "1  https://mojim.com/cny100019x81x1.htm   \n",
       "2  https://mojim.com/cny100019x79x1.htm   \n",
       "3  https://mojim.com/cny100019x77x1.htm   \n",
       "4  https://mojim.com/cny100019x75x1.htm   \n",
       "\n",
       "                                              Lyrics   Title      Album Title  \n",
       "0  \\n王菲\\n\\n\\n\\n\\n\\n\\n归途有风\\n\\n\\n电影 万里归途 主题曲\\n作词：唐恬...    归途有风             归途有风  \n",
       "1  \\n王菲\\n\\n\\n\\n\\n\\n\\n如愿\\n\\n\\n作词：唐恬\\n作曲：钱雷\\n你是 遥遥的...      如愿               如愿  \n",
       "2  \\n王菲\\n\\n\\n\\n\\n\\n\\n偶遇\\n\\n\\n电影 邪不压正 宣传曲\\n作词：林珺帆\\...      偶遇          电影 邪不压正  \n",
       "3  \\n王菲\\n\\n\\n\\n\\n\\n\\n无问西东\\n\\n\\n作词：彭青\\n作曲：彭青\\n编曲：彭...    无问西东      电影《无问西东》推广曲  \n",
       "4  \\n王菲\\n\\n\\n\\n\\n\\n\\n你在终点等我\\n\\n\\n作词：姚若龙\\n作曲：陈小霞\\n...  你在终点等我  电影《从你的全世界路过》片尾曲  "
      ]
     },
     "execution_count": 32,
     "metadata": {},
     "output_type": "execute_result"
    }
   ],
   "source": [
    "tmp = pd.read_csv(\"lyrics_wf.csv\")\n",
    "tmp.head()"
   ]
  },
  {
   "cell_type": "markdown",
   "metadata": {},
   "source": [
    "## Text Cleaning"
   ]
  },
  {
   "cell_type": "code",
   "execution_count": 82,
   "metadata": {},
   "outputs": [],
   "source": [
    "import re\n",
    "# define the regular expression pattern to match the timestamps\n",
    "pattern = r\"\\[\\d{2}:\\d{2}\\.\\d{2}\\]\"\n",
    "\n",
    "# use the re.sub() function to remove the timestamps from the text\n",
    "tmp['Lyrics'] = tmp['Lyrics'].apply(lambda x: re.sub(pattern, \"\", x))"
   ]
  },
  {
   "cell_type": "markdown",
   "metadata": {},
   "source": [
    "One row per line"
   ]
  },
  {
   "cell_type": "code",
   "execution_count": 84,
   "metadata": {},
   "outputs": [
    {
     "data": {
      "text/html": [
       "<div>\n",
       "<style scoped>\n",
       "    .dataframe tbody tr th:only-of-type {\n",
       "        vertical-align: middle;\n",
       "    }\n",
       "\n",
       "    .dataframe tbody tr th {\n",
       "        vertical-align: top;\n",
       "    }\n",
       "\n",
       "    .dataframe thead th {\n",
       "        text-align: right;\n",
       "    }\n",
       "</style>\n",
       "<table border=\"1\" class=\"dataframe\">\n",
       "  <thead>\n",
       "    <tr style=\"text-align: right;\">\n",
       "      <th></th>\n",
       "      <th>URL</th>\n",
       "      <th>Lyrics</th>\n",
       "      <th>Title</th>\n",
       "      <th>Album Title</th>\n",
       "      <th>lyrics</th>\n",
       "    </tr>\n",
       "  </thead>\n",
       "  <tbody>\n",
       "    <tr>\n",
       "      <th>0</th>\n",
       "      <td>https://mojim.com/cny100019x82x1.htm</td>\n",
       "      <td>\\n王菲\\n归途有风\\n电影 万里归途 主题曲\\n作词：唐恬@勇士音乐\\n作曲：钱雷@勇士音...</td>\n",
       "      <td>归途有风</td>\n",
       "      <td>归途有风</td>\n",
       "      <td></td>\n",
       "    </tr>\n",
       "    <tr>\n",
       "      <th>0</th>\n",
       "      <td>https://mojim.com/cny100019x82x1.htm</td>\n",
       "      <td>\\n王菲\\n归途有风\\n电影 万里归途 主题曲\\n作词：唐恬@勇士音乐\\n作曲：钱雷@勇士音...</td>\n",
       "      <td>归途有风</td>\n",
       "      <td>归途有风</td>\n",
       "      <td>王菲</td>\n",
       "    </tr>\n",
       "    <tr>\n",
       "      <th>0</th>\n",
       "      <td>https://mojim.com/cny100019x82x1.htm</td>\n",
       "      <td>\\n王菲\\n归途有风\\n电影 万里归途 主题曲\\n作词：唐恬@勇士音乐\\n作曲：钱雷@勇士音...</td>\n",
       "      <td>归途有风</td>\n",
       "      <td>归途有风</td>\n",
       "      <td>归途有风</td>\n",
       "    </tr>\n",
       "    <tr>\n",
       "      <th>0</th>\n",
       "      <td>https://mojim.com/cny100019x82x1.htm</td>\n",
       "      <td>\\n王菲\\n归途有风\\n电影 万里归途 主题曲\\n作词：唐恬@勇士音乐\\n作曲：钱雷@勇士音...</td>\n",
       "      <td>归途有风</td>\n",
       "      <td>归途有风</td>\n",
       "      <td>电影 万里归途 主题曲</td>\n",
       "    </tr>\n",
       "    <tr>\n",
       "      <th>0</th>\n",
       "      <td>https://mojim.com/cny100019x82x1.htm</td>\n",
       "      <td>\\n王菲\\n归途有风\\n电影 万里归途 主题曲\\n作词：唐恬@勇士音乐\\n作曲：钱雷@勇士音...</td>\n",
       "      <td>归途有风</td>\n",
       "      <td>归途有风</td>\n",
       "      <td>作词：唐恬@勇士音乐</td>\n",
       "    </tr>\n",
       "  </tbody>\n",
       "</table>\n",
       "</div>"
      ],
      "text/plain": [
       "                                    URL  \\\n",
       "0  https://mojim.com/cny100019x82x1.htm   \n",
       "0  https://mojim.com/cny100019x82x1.htm   \n",
       "0  https://mojim.com/cny100019x82x1.htm   \n",
       "0  https://mojim.com/cny100019x82x1.htm   \n",
       "0  https://mojim.com/cny100019x82x1.htm   \n",
       "\n",
       "                                              Lyrics Title Album Title  \\\n",
       "0  \\n王菲\\n归途有风\\n电影 万里归途 主题曲\\n作词：唐恬@勇士音乐\\n作曲：钱雷@勇士音...  归途有风        归途有风   \n",
       "0  \\n王菲\\n归途有风\\n电影 万里归途 主题曲\\n作词：唐恬@勇士音乐\\n作曲：钱雷@勇士音...  归途有风        归途有风   \n",
       "0  \\n王菲\\n归途有风\\n电影 万里归途 主题曲\\n作词：唐恬@勇士音乐\\n作曲：钱雷@勇士音...  归途有风        归途有风   \n",
       "0  \\n王菲\\n归途有风\\n电影 万里归途 主题曲\\n作词：唐恬@勇士音乐\\n作曲：钱雷@勇士音...  归途有风        归途有风   \n",
       "0  \\n王菲\\n归途有风\\n电影 万里归途 主题曲\\n作词：唐恬@勇士音乐\\n作曲：钱雷@勇士音...  归途有风        归途有风   \n",
       "\n",
       "        lyrics  \n",
       "0               \n",
       "0           王菲  \n",
       "0         归途有风  \n",
       "0  电影 万里归途 主题曲  \n",
       "0   作词：唐恬@勇士音乐  "
      ]
     },
     "execution_count": 84,
     "metadata": {},
     "output_type": "execute_result"
    }
   ],
   "source": [
    "tmp.replace(r\"\\n{2,}\", \"\\n\", regex=True, inplace=True)\n",
    "tmp.head()\n",
    "new = tmp.assign(lyrics = tmp['Lyrics'].str.split(\"\\n\")).explode('lyrics')\n",
    "new.head()\n"
   ]
  },
  {
   "cell_type": "code",
   "execution_count": 87,
   "metadata": {},
   "outputs": [
    {
     "name": "stdout",
     "output_type": "stream",
     "text": [
      "       Title            Album                                   URL  \\\n",
      "0       归途有风             归途有风  https://mojim.com/cny100019x82x1.htm   \n",
      "1       归途有风             归途有风  https://mojim.com/cny100019x82x1.htm   \n",
      "2       归途有风             归途有风  https://mojim.com/cny100019x82x1.htm   \n",
      "3       归途有风             归途有风  https://mojim.com/cny100019x82x1.htm   \n",
      "4       归途有风             归途有风  https://mojim.com/cny100019x82x1.htm   \n",
      "...      ...              ...                                   ...   \n",
      "2993  你在终点等我  电影《从你的全世界路过》片尾曲  https://mojim.com/cny100019x75x1.htm   \n",
      "2994  你在终点等我  电影《从你的全世界路过》片尾曲  https://mojim.com/cny100019x75x1.htm   \n",
      "2995  你在终点等我  电影《从你的全世界路过》片尾曲  https://mojim.com/cny100019x75x1.htm   \n",
      "2996  你在终点等我  电影《从你的全世界路过》片尾曲  https://mojim.com/cny100019x75x1.htm   \n",
      "2997  你在终点等我  电影《从你的全世界路过》片尾曲  https://mojim.com/cny100019x75x1.htm   \n",
      "\n",
      "                                                  Chunk  \n",
      "0     \\n王菲\\n归途有风\\n电影 万里归途 主题曲\\n作词：唐恬@勇士音乐\\n作曲：钱雷@勇士音...  \n",
      "1     才可明白 为何而来\\n要 放开过 勿放的手\\n要 千山万水 懂得泪流\\n要风起 要别离 要万...  \n",
      "2     让它告诉我\\n抉择多难 都已做过\\n不问得失 无悔对错\\n让月光 带我回家\\n让来路 带我回...  \n",
      "3     更多更详尽歌词 在 ※ Mojim.com　魔镜歌词网 \\n门背后 是谁呢 拥抱着 你的噩梦...  \n",
      "4     该我赴的约 都已赴过\\n不问得失 无悔对错\\n让月光 带我回家 牵着我的手\\n让来路 带我回...  \n",
      "...                                                 ...  \n",
      "2993  撑住倾盆 撒落的孤单\\n所以好想送你 一弯河岸\\n洗涤 腐蚀心灵的遗憾\\n给你 我所有的温暖...  \n",
      "2994  被所有的人误解 都要理解你\\n准备好 当擦亮你天际的浮云\\n你却在终点等我 笑里有雨滴\\n我...  \n",
      "2995  没有你的地方 都是他乡\\n没有你的旅行 都是流浪\\n那些兜兜转转的曲折与感伤 都是翅膀\\n都...  \n",
      "2996  你却在终点等我 笑里有雨滴\\n我甘愿成全了 你珍藏的往昔\\n只想你找回 让你像你的热情\\n然...  \n",
      "2997   \\n成明星Beyonds\\n \\n 修正歌词\\n \\n友站连结：\\n \\nBeyonds'...  \n",
      "\n",
      "[2998 rows x 4 columns]\n"
     ]
    }
   ],
   "source": [
    "min_chunk_size = 100\n",
    "new_df = pd.DataFrame(columns=[\"Title\", \"Album\", \"URL\",\"Chunk\"])\n",
    "for index, row in tmp.head().iterrows():\n",
    "    # split the text in the current row into chunks while respecting the newline characters\n",
    "    chunks = []\n",
    "    for line in row[\"Lyrics\"].split(\"\\n\"):\n",
    "        if len(line) >= min_chunk_size:\n",
    "            chunks.append(line)\n",
    "        else:\n",
    "            merged_chunk = line\n",
    "            for next_line in row[\"Lyrics\"][len(line)+1:].split(\"\\n\"):\n",
    "                if len(merged_chunk) + len(next_line) + 1 < min_chunk_size:\n",
    "                    merged_chunk += \"\\n\" + next_line\n",
    "                else:\n",
    "                    chunks.append(merged_chunk)\n",
    "                    merged_chunk = next_line\n",
    "            chunks.append(merged_chunk)\n",
    "    # create a new dataframe with the resulting chunks and metadata\n",
    "    chunk_df = pd.DataFrame({\n",
    "        \"Title\": [row[\"Title\"]] * len(chunks),\n",
    "        \"URL\": [row[\"URL\"]] * len(chunks),\n",
    "        \"Album\": [row[\"Album Title\"]] * len(chunks),\n",
    "        \"Chunk\": chunks\n",
    "    })\n",
    "    new_df = pd.concat([new_df, chunk_df], ignore_index=True)\n",
    "\n",
    "# display the resulting dataframe\n",
    "print(new_df)\n"
   ]
  },
  {
   "cell_type": "markdown",
   "metadata": {},
   "source": [
    "## Retrieval"
   ]
  },
  {
   "cell_type": "code",
   "execution_count": 90,
   "metadata": {},
   "outputs": [],
   "source": [
    "# loader = CSVLoader(file_path=\"lyrics_wf.csv\", source_column=\"Lyrics\")\n",
    "# loader = DataFrameLoader(new, page_content_column='lyrics')\n",
    "loader = DataFrameLoader(new_df, page_content_column='Chunk')\n",
    "data = loader.load()"
   ]
  },
  {
   "cell_type": "code",
   "execution_count": 91,
   "metadata": {},
   "outputs": [
    {
     "name": "stderr",
     "output_type": "stream",
     "text": [
      "Retrying langchain.embeddings.openai.embed_with_retry.<locals>._embed_with_retry in 4.0 seconds as it raised Timeout: Request timed out: HTTPSConnectionPool(host='api.openai.com', port=443): Read timed out. (read timeout=600).\n"
     ]
    }
   ],
   "source": [
    "# Split documents into smaller chunks\n",
    "# text_splitter = CharacterTextSplitter(chunk_size=500, chunk_overlap=0)\n",
    "# texts = text_splitter.split_documents(data)\n",
    "\n",
    "# Initialize OpenAI embeddings\n",
    "embeddings_model = OpenAIEmbeddings()\n",
    "vectorstore = Chroma.from_documents(data, embeddings_model, persist_directory=\"./chroma_db\")\n",
    "vectorstore.persist()"
   ]
  },
  {
   "cell_type": "code",
   "execution_count": 92,
   "metadata": {},
   "outputs": [],
   "source": [
    "from langchain.chains import ConversationalRetrievalChain\n",
    "from langchain.memory import ConversationBufferMemory\n",
    "memory = ConversationBufferMemory(memory_key=\"chat_history\", return_messages=True)"
   ]
  },
  {
   "cell_type": "code",
   "execution_count": 93,
   "metadata": {},
   "outputs": [],
   "source": [
    "qa = ConversationalRetrievalChain.from_llm(OpenAI(temperature=0), vectorstore.as_retriever(), memory=memory)"
   ]
  },
  {
   "cell_type": "code",
   "execution_count": 94,
   "metadata": {},
   "outputs": [],
   "source": [
    "retriever=vectorstore.as_retriever()\n",
    "lyrics = retriever.get_relevant_documents(\n",
    "    query=\"今天好开心\"\n",
    ")"
   ]
  },
  {
   "cell_type": "code",
   "execution_count": 96,
   "metadata": {},
   "outputs": [
    {
     "name": "stdout",
     "output_type": "stream",
     "text": [
      "~而我将爱你所爱的人间~\n",
      "～愿你所愿的笑颜~\n",
      "~你的手我蹒跚在牵~\n",
      "~请带~我去~明天~～\n",
      "~如果说你曾苦过我的甜~\n",
      "～我愿活成你~的愿~\n",
      "~愿不枉啊愿勇往啊~\n",
      "~这盛世每~一天～～～\n"
     ]
    }
   ],
   "source": [
    "print(lyrics[0].page_content)"
   ]
  },
  {
   "cell_type": "code",
   "execution_count": 98,
   "metadata": {},
   "outputs": [
    {
     "name": "stdout",
     "output_type": "stream",
     "text": [
      "无妄的多情 不忘也多余 不如不散不聚\n",
      "相爱无痕迹 相忘得无忧无虑\n",
      "伤害无痕迹 痛苦得无忧无虑\n",
      "\n"
     ]
    }
   ],
   "source": [
    "lyrics = retriever.get_relevant_documents(\n",
    "    query=\"爱上了不该爱的人，又离不开\"\n",
    ")\n",
    "print(lyrics[0].page_content)"
   ]
  }
 ],
 "metadata": {
  "kernelspec": {
   "display_name": "Python 3",
   "language": "python",
   "name": "python3"
  },
  "language_info": {
   "codemirror_mode": {
    "name": "ipython",
    "version": 3
   },
   "file_extension": ".py",
   "mimetype": "text/x-python",
   "name": "python",
   "nbconvert_exporter": "python",
   "pygments_lexer": "ipython3",
   "version": "3.9.13"
  },
  "orig_nbformat": 4
 },
 "nbformat": 4,
 "nbformat_minor": 2
}
