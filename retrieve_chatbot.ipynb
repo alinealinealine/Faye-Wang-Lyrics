{
 "cells": [
  {
   "cell_type": "code",
   "execution_count": 41,
   "metadata": {},
   "outputs": [],
   "source": [
    "import pandas as pd\n",
    "from langchain.llms import OpenAI\n",
    "# from langchain.document_loaders.csv_loader import CSVLoader\n",
    "from langchain.document_loaders import DataFrameLoader\n",
    "from langchain.embeddings.openai import OpenAIEmbeddings\n",
    "from langchain.text_splitter import CharacterTextSplitter\n",
    "from langchain.vectorstores import Chroma"
   ]
  },
  {
   "cell_type": "code",
   "execution_count": 32,
   "metadata": {},
   "outputs": [
    {
     "data": {
      "text/html": [
       "<div>\n",
       "<style scoped>\n",
       "    .dataframe tbody tr th:only-of-type {\n",
       "        vertical-align: middle;\n",
       "    }\n",
       "\n",
       "    .dataframe tbody tr th {\n",
       "        vertical-align: top;\n",
       "    }\n",
       "\n",
       "    .dataframe thead th {\n",
       "        text-align: right;\n",
       "    }\n",
       "</style>\n",
       "<table border=\"1\" class=\"dataframe\">\n",
       "  <thead>\n",
       "    <tr style=\"text-align: right;\">\n",
       "      <th></th>\n",
       "      <th>URL</th>\n",
       "      <th>Lyrics</th>\n",
       "      <th>Title</th>\n",
       "      <th>Album Title</th>\n",
       "    </tr>\n",
       "  </thead>\n",
       "  <tbody>\n",
       "    <tr>\n",
       "      <th>0</th>\n",
       "      <td>https://mojim.com/cny100019x82x1.htm</td>\n",
       "      <td>\\n王菲\\n\\n\\n\\n\\n\\n\\n归途有风\\n\\n\\n电影 万里归途 主题曲\\n作词：唐恬...</td>\n",
       "      <td>归途有风</td>\n",
       "      <td>归途有风</td>\n",
       "    </tr>\n",
       "    <tr>\n",
       "      <th>1</th>\n",
       "      <td>https://mojim.com/cny100019x81x1.htm</td>\n",
       "      <td>\\n王菲\\n\\n\\n\\n\\n\\n\\n如愿\\n\\n\\n作词：唐恬\\n作曲：钱雷\\n你是 遥遥的...</td>\n",
       "      <td>如愿</td>\n",
       "      <td>如愿</td>\n",
       "    </tr>\n",
       "    <tr>\n",
       "      <th>2</th>\n",
       "      <td>https://mojim.com/cny100019x79x1.htm</td>\n",
       "      <td>\\n王菲\\n\\n\\n\\n\\n\\n\\n偶遇\\n\\n\\n电影 邪不压正 宣传曲\\n作词：林珺帆\\...</td>\n",
       "      <td>偶遇</td>\n",
       "      <td>电影 邪不压正</td>\n",
       "    </tr>\n",
       "    <tr>\n",
       "      <th>3</th>\n",
       "      <td>https://mojim.com/cny100019x77x1.htm</td>\n",
       "      <td>\\n王菲\\n\\n\\n\\n\\n\\n\\n无问西东\\n\\n\\n作词：彭青\\n作曲：彭青\\n编曲：彭...</td>\n",
       "      <td>无问西东</td>\n",
       "      <td>电影《无问西东》推广曲</td>\n",
       "    </tr>\n",
       "    <tr>\n",
       "      <th>4</th>\n",
       "      <td>https://mojim.com/cny100019x75x1.htm</td>\n",
       "      <td>\\n王菲\\n\\n\\n\\n\\n\\n\\n你在终点等我\\n\\n\\n作词：姚若龙\\n作曲：陈小霞\\n...</td>\n",
       "      <td>你在终点等我</td>\n",
       "      <td>电影《从你的全世界路过》片尾曲</td>\n",
       "    </tr>\n",
       "  </tbody>\n",
       "</table>\n",
       "</div>"
      ],
      "text/plain": [
       "                                    URL  \\\n",
       "0  https://mojim.com/cny100019x82x1.htm   \n",
       "1  https://mojim.com/cny100019x81x1.htm   \n",
       "2  https://mojim.com/cny100019x79x1.htm   \n",
       "3  https://mojim.com/cny100019x77x1.htm   \n",
       "4  https://mojim.com/cny100019x75x1.htm   \n",
       "\n",
       "                                              Lyrics   Title      Album Title  \n",
       "0  \\n王菲\\n\\n\\n\\n\\n\\n\\n归途有风\\n\\n\\n电影 万里归途 主题曲\\n作词：唐恬...    归途有风             归途有风  \n",
       "1  \\n王菲\\n\\n\\n\\n\\n\\n\\n如愿\\n\\n\\n作词：唐恬\\n作曲：钱雷\\n你是 遥遥的...      如愿               如愿  \n",
       "2  \\n王菲\\n\\n\\n\\n\\n\\n\\n偶遇\\n\\n\\n电影 邪不压正 宣传曲\\n作词：林珺帆\\...      偶遇          电影 邪不压正  \n",
       "3  \\n王菲\\n\\n\\n\\n\\n\\n\\n无问西东\\n\\n\\n作词：彭青\\n作曲：彭青\\n编曲：彭...    无问西东      电影《无问西东》推广曲  \n",
       "4  \\n王菲\\n\\n\\n\\n\\n\\n\\n你在终点等我\\n\\n\\n作词：姚若龙\\n作曲：陈小霞\\n...  你在终点等我  电影《从你的全世界路过》片尾曲  "
      ]
     },
     "execution_count": 32,
     "metadata": {},
     "output_type": "execute_result"
    }
   ],
   "source": [
    "tmp = pd.read_csv(\"lyrics_wf.csv\")\n",
    "tmp.head()"
   ]
  },
  {
   "cell_type": "code",
   "execution_count": 39,
   "metadata": {},
   "outputs": [
    {
     "data": {
      "text/html": [
       "<div>\n",
       "<style scoped>\n",
       "    .dataframe tbody tr th:only-of-type {\n",
       "        vertical-align: middle;\n",
       "    }\n",
       "\n",
       "    .dataframe tbody tr th {\n",
       "        vertical-align: top;\n",
       "    }\n",
       "\n",
       "    .dataframe thead th {\n",
       "        text-align: right;\n",
       "    }\n",
       "</style>\n",
       "<table border=\"1\" class=\"dataframe\">\n",
       "  <thead>\n",
       "    <tr style=\"text-align: right;\">\n",
       "      <th></th>\n",
       "      <th>URL</th>\n",
       "      <th>Lyrics</th>\n",
       "      <th>Title</th>\n",
       "      <th>Album Title</th>\n",
       "      <th>lyrics</th>\n",
       "    </tr>\n",
       "  </thead>\n",
       "  <tbody>\n",
       "    <tr>\n",
       "      <th>0</th>\n",
       "      <td>https://mojim.com/cny100019x82x1.htm</td>\n",
       "      <td>\\n王菲\\n归途有风\\n电影 万里归途 主题曲\\n作词：唐恬@勇士音乐\\n作曲：钱雷@勇士音...</td>\n",
       "      <td>归途有风</td>\n",
       "      <td>归途有风</td>\n",
       "      <td></td>\n",
       "    </tr>\n",
       "    <tr>\n",
       "      <th>0</th>\n",
       "      <td>https://mojim.com/cny100019x82x1.htm</td>\n",
       "      <td>\\n王菲\\n归途有风\\n电影 万里归途 主题曲\\n作词：唐恬@勇士音乐\\n作曲：钱雷@勇士音...</td>\n",
       "      <td>归途有风</td>\n",
       "      <td>归途有风</td>\n",
       "      <td>王菲</td>\n",
       "    </tr>\n",
       "    <tr>\n",
       "      <th>0</th>\n",
       "      <td>https://mojim.com/cny100019x82x1.htm</td>\n",
       "      <td>\\n王菲\\n归途有风\\n电影 万里归途 主题曲\\n作词：唐恬@勇士音乐\\n作曲：钱雷@勇士音...</td>\n",
       "      <td>归途有风</td>\n",
       "      <td>归途有风</td>\n",
       "      <td>归途有风</td>\n",
       "    </tr>\n",
       "    <tr>\n",
       "      <th>0</th>\n",
       "      <td>https://mojim.com/cny100019x82x1.htm</td>\n",
       "      <td>\\n王菲\\n归途有风\\n电影 万里归途 主题曲\\n作词：唐恬@勇士音乐\\n作曲：钱雷@勇士音...</td>\n",
       "      <td>归途有风</td>\n",
       "      <td>归途有风</td>\n",
       "      <td>电影 万里归途 主题曲</td>\n",
       "    </tr>\n",
       "    <tr>\n",
       "      <th>0</th>\n",
       "      <td>https://mojim.com/cny100019x82x1.htm</td>\n",
       "      <td>\\n王菲\\n归途有风\\n电影 万里归途 主题曲\\n作词：唐恬@勇士音乐\\n作曲：钱雷@勇士音...</td>\n",
       "      <td>归途有风</td>\n",
       "      <td>归途有风</td>\n",
       "      <td>作词：唐恬@勇士音乐</td>\n",
       "    </tr>\n",
       "  </tbody>\n",
       "</table>\n",
       "</div>"
      ],
      "text/plain": [
       "                                    URL  \\\n",
       "0  https://mojim.com/cny100019x82x1.htm   \n",
       "0  https://mojim.com/cny100019x82x1.htm   \n",
       "0  https://mojim.com/cny100019x82x1.htm   \n",
       "0  https://mojim.com/cny100019x82x1.htm   \n",
       "0  https://mojim.com/cny100019x82x1.htm   \n",
       "\n",
       "                                              Lyrics Title Album Title  \\\n",
       "0  \\n王菲\\n归途有风\\n电影 万里归途 主题曲\\n作词：唐恬@勇士音乐\\n作曲：钱雷@勇士音...  归途有风        归途有风   \n",
       "0  \\n王菲\\n归途有风\\n电影 万里归途 主题曲\\n作词：唐恬@勇士音乐\\n作曲：钱雷@勇士音...  归途有风        归途有风   \n",
       "0  \\n王菲\\n归途有风\\n电影 万里归途 主题曲\\n作词：唐恬@勇士音乐\\n作曲：钱雷@勇士音...  归途有风        归途有风   \n",
       "0  \\n王菲\\n归途有风\\n电影 万里归途 主题曲\\n作词：唐恬@勇士音乐\\n作曲：钱雷@勇士音...  归途有风        归途有风   \n",
       "0  \\n王菲\\n归途有风\\n电影 万里归途 主题曲\\n作词：唐恬@勇士音乐\\n作曲：钱雷@勇士音...  归途有风        归途有风   \n",
       "\n",
       "        lyrics  \n",
       "0               \n",
       "0           王菲  \n",
       "0         归途有风  \n",
       "0  电影 万里归途 主题曲  \n",
       "0   作词：唐恬@勇士音乐  "
      ]
     },
     "execution_count": 39,
     "metadata": {},
     "output_type": "execute_result"
    }
   ],
   "source": [
    "tmp.replace(r\"\\n{2,}\", \"\\n\", regex=True, inplace=True)\n",
    "tmp.head()\n",
    "new = tmp.assign(lyrics = tmp['Lyrics'].str.split(\"\\n\")).explode('lyrics')\n",
    "new.head()\n"
   ]
  },
  {
   "cell_type": "code",
   "execution_count": 42,
   "metadata": {},
   "outputs": [],
   "source": [
    "# loader = CSVLoader(file_path=\"lyrics_wf.csv\", source_column=\"Lyrics\")\n",
    "loader = DataFrameLoader(new, page_content_column='lyrics')\n",
    "data = loader.load()"
   ]
  },
  {
   "cell_type": "code",
   "execution_count": 43,
   "metadata": {},
   "outputs": [],
   "source": [
    "# Split documents into smaller chunks\n",
    "text_splitter = CharacterTextSplitter(chunk_size=500, chunk_overlap=0)\n",
    "texts = text_splitter.split_documents(data)\n",
    "\n",
    "# Initialize OpenAI embeddings\n",
    "embeddings_model = OpenAIEmbeddings()\n",
    "vectorstore = Chroma.from_documents(texts, embeddings_model)"
   ]
  },
  {
   "cell_type": "code",
   "execution_count": 44,
   "metadata": {},
   "outputs": [],
   "source": [
    "from langchain.chains import ConversationalRetrievalChain\n",
    "from langchain.memory import ConversationBufferMemory\n",
    "memory = ConversationBufferMemory(memory_key=\"chat_history\", return_messages=True)"
   ]
  },
  {
   "cell_type": "code",
   "execution_count": 45,
   "metadata": {},
   "outputs": [],
   "source": [
    "qa = ConversationalRetrievalChain.from_llm(OpenAI(temperature=0), vectorstore.as_retriever(), memory=memory)"
   ]
  },
  {
   "cell_type": "code",
   "execution_count": 48,
   "metadata": {},
   "outputs": [],
   "source": [
    "retriever=vectorstore.as_retriever()\n",
    "lyrics = retriever.get_relevant_documents(\n",
    "    query=\"今天好开心\"\n",
    ")"
   ]
  },
  {
   "cell_type": "code",
   "execution_count": 51,
   "metadata": {},
   "outputs": [
    {
     "data": {
      "text/plain": [
       "'满心欢喜'"
      ]
     },
     "execution_count": 51,
     "metadata": {},
     "output_type": "execute_result"
    }
   ],
   "source": [
    "lyrics[0].page_content"
   ]
  },
  {
   "cell_type": "code",
   "execution_count": 50,
   "metadata": {},
   "outputs": [
    {
     "name": "stdout",
     "output_type": "stream",
     "text": [
      "********--------*******\n",
      "page_content='满心欢喜' metadata={'URL': 'https://mojim.com/cny100019x60x20.htm', 'Lyrics': '\\n王菲\\n知己知彼\\n作词：林夕\\n作曲：Elisabeth Fraser / Robin Guthrie / Simon Raythonde\\n编曲：Adrian Chan\\n凌晨是我\\n明晨是你\\n事业陪着你\\n衣服缠着我\\n早已飞不起\\n在两人的天地\\n谁是我而谁是你\\n唇是我而眉是你\\n放于一起\\n在这再难放置爱情的天地\\n不知不觉爱已死\\n共你知彼知己\\n何必逃避\\n红裙属我\\n蓝筹属你\\n玩物全属你\\n饰物全属我\\n更多更详尽歌词 在 ※ Mojim.com\\u3000魔镜歌词网 \\n一切花得起\\n在这幸福天地\\n谁是我而谁是你\\n曾令我还曾令你\\n满心欢喜\\n在两个人各有各人的天地\\n当初讲过爱到死\\n就算今非昔比仍一起\\n当初讲过爱到死\\n就算今非昔比仍一起\\n没患难但各自飞\\n像天共地一般距离\\n没患难但各自飞\\n像天共地一般距离\\n不知不觉爱已死\\n共你知彼知己\\n何必逃避\\n当初讲过爱到死\\n就算今非昔比仍一起\\n', 'Title': '知己知彼', 'Album Title': '89-97 32首精选'}\n",
      "********--------*******\n",
      "page_content='然后这天' metadata={'URL': 'https://mojim.com/cny100019x60x24.htm', 'Lyrics': '\\n王菲\\n不再儿嬉\\n心 为你在某天伤过\\n在那日分手 你 讲过\\n爱她更多\\n当天 哭过 死过\\u3000疯过 没结果\\n当天你要我受折磨\\n然后这天\\n你却想再续旧日情\\n愿再玩\\n还道这天没有伴\\n无新欢\\nHey! 速速消失好嘛？\\n不再儿嬉\\n不相信动人话\\n不要又来\\n说梦话\\n曾信梦话\\n你现在\\n完全是个笑话\\n心 在某日某天好痛\\n泪似浪汹涌\\n那天你与她抱拥\\n光阴使我知要醒觉及看通\\n终于我抹掉你面容\\n然后这夜你却宣调换立场\\n说话漂亮\\n求实我宽大地原谅\\n重双双\\nHey!\\n更多更详尽歌词 在 ※ Mojim.com\\u3000魔镜歌词网 \\n速速消失好嘛？\\n不再儿嬉\\n不相信动人话\\n不再儿嬉\\n速速消失好嘛？\\n不再儿嬉\\n别又再造梦吧\\n别又再造梦吧\\n别又花花假假编制动人话\\nStay Away\\nStay Away\\n你现在完全是个笑话\\nHey!\\n速速消失好嘛？\\n不再儿嬉\\n不相信动人话\\n不要又来\\nStay Away\\n别又再造梦吧\\n你现在完全是个笑话\\nHey!\\n速速消失好嘛？\\n不再儿嬉\\n不相信动人话\\n不再儿嬉\\n', 'Title': '不再儿嬉', 'Album Title': '89-97 32首精选'}\n",
      "********--------*******\n",
      "page_content='在这幸福天地' metadata={'URL': 'https://mojim.com/cny100019x60x20.htm', 'Lyrics': '\\n王菲\\n知己知彼\\n作词：林夕\\n作曲：Elisabeth Fraser / Robin Guthrie / Simon Raythonde\\n编曲：Adrian Chan\\n凌晨是我\\n明晨是你\\n事业陪着你\\n衣服缠着我\\n早已飞不起\\n在两人的天地\\n谁是我而谁是你\\n唇是我而眉是你\\n放于一起\\n在这再难放置爱情的天地\\n不知不觉爱已死\\n共你知彼知己\\n何必逃避\\n红裙属我\\n蓝筹属你\\n玩物全属你\\n饰物全属我\\n更多更详尽歌词 在 ※ Mojim.com\\u3000魔镜歌词网 \\n一切花得起\\n在这幸福天地\\n谁是我而谁是你\\n曾令我还曾令你\\n满心欢喜\\n在两个人各有各人的天地\\n当初讲过爱到死\\n就算今非昔比仍一起\\n当初讲过爱到死\\n就算今非昔比仍一起\\n没患难但各自飞\\n像天共地一般距离\\n没患难但各自飞\\n像天共地一般距离\\n不知不觉爱已死\\n共你知彼知己\\n何必逃避\\n当初讲过爱到死\\n就算今非昔比仍一起\\n', 'Title': '知己知彼', 'Album Title': '89-97 32首精选'}\n",
      "********--------*******\n",
      "page_content='你快乐(所以我快乐)' metadata={'URL': 'https://mojim.com/cny100019x56x38.htm', 'Lyrics': '\\n王菲\\n你快乐(所以我快乐)\\n作词：林夕\\n作曲：张亚东\\n编曲：张亚东\\n你眉头开了\\u3000所以我笑了\\n你眼睛红了\\u3000我的天灰了\\n呵天晓得\\u3000既然说\\n你快乐\\u3000于是我快乐\\n玫瑰都开了\\u3000我还想怎么呢\\n求之不得\\u3000求不得\\n天造地设一样的难得\\u3000喜怒和哀乐\\n更多更详尽歌词 在 ※ Mojim.com\\u3000魔镜歌词网 \\n有我来重蹈你覆彻\\nLA LA LA .\\nLA LA LA .\\n你头发湿了\\u3000所以我热了\\n你觉的累了\\u3000所以我睡了\\n天晓得\\u3000不问为什么\\u3000心安理得\\n 感谢 \\nJacky yu\\n \\n 修正歌词\\n', 'Title': '你快乐(所以我快乐)', 'Album Title': '情菲得意[情Faye得意]'}\n"
     ]
    }
   ],
   "source": [
    "for lyric in lyrics:\n",
    "    print(\"********--------*******\")\n",
    "    print(lyric)\n"
   ]
  }
 ],
 "metadata": {
  "kernelspec": {
   "display_name": "Python 3",
   "language": "python",
   "name": "python3"
  },
  "language_info": {
   "codemirror_mode": {
    "name": "ipython",
    "version": 3
   },
   "file_extension": ".py",
   "mimetype": "text/x-python",
   "name": "python",
   "nbconvert_exporter": "python",
   "pygments_lexer": "ipython3",
   "version": "3.9.13"
  },
  "orig_nbformat": 4
 },
 "nbformat": 4,
 "nbformat_minor": 2
}
